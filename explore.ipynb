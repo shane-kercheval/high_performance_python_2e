{
 "cells": [
  {
   "cell_type": "code",
   "execution_count": 2,
   "metadata": {},
   "outputs": [
    {
     "name": "stdout",
     "output_type": "stream",
     "text": [
      "Fri Sep 23 09:12:59 2022    02_profiling/profile.stats\n",
      "\n",
      "         36221995 function calls in 6.588 seconds\n",
      "\n",
      "   Random listing order was used\n",
      "\n",
      "   ncalls  tottime  percall  cumtime  percall filename:lineno(function)\n",
      "        1    0.327    0.327    6.569    6.569 julia1_nopil.py:23(calc_pure_python)\n",
      "        1    4.165    4.165    6.147    6.147 julia1_nopil.py:9(calculate_z_serial_purepython)\n",
      "        1    0.019    0.019    6.588    6.588 julia1_nopil.py:1(<module>)\n",
      "        1    0.000    0.000    0.000    0.000 {method 'disable' of '_lsprof.Profiler' objects}\n",
      "  2002000    0.092    0.000    0.092    0.000 {method 'append' of 'list' objects}\n",
      " 34219980    1.981    0.000    1.981    0.000 {built-in method builtins.abs}\n",
      "        1    0.000    0.000    6.588    6.588 {built-in method builtins.exec}\n",
      "        4    0.000    0.000    0.000    0.000 {built-in method builtins.len}\n",
      "        3    0.000    0.000    0.000    0.000 {built-in method builtins.print}\n",
      "        1    0.004    0.004    0.004    0.004 {built-in method builtins.sum}\n",
      "        2    0.000    0.000    0.000    0.000 {built-in method time.time}\n",
      "\n",
      "\n"
     ]
    },
    {
     "data": {
      "text/plain": [
       "<pstats.Stats at 0x1040c6680>"
      ]
     },
     "execution_count": 2,
     "metadata": {},
     "output_type": "execute_result"
    }
   ],
   "source": [
    "import pstats\n",
    "stats = pstats.Stats('02_profiling/profile.stats')\n",
    "stats.print_stats()"
   ]
  },
  {
   "cell_type": "code",
   "execution_count": 3,
   "metadata": {},
   "outputs": [
    {
     "name": "stdout",
     "output_type": "stream",
     "text": [
      "   Random listing order was used\n",
      "\n",
      "Function                                          called...\n",
      "                                                      ncalls  tottime  cumtime\n",
      "julia1_nopil.py:23(calc_pure_python)              ->       1    4.165    6.147  julia1_nopil.py:9(calculate_z_serial_purepython)\n",
      "                                                           2    0.000    0.000  {built-in method builtins.len}\n",
      "                                                           3    0.000    0.000  {built-in method builtins.print}\n",
      "                                                           1    0.004    0.004  {built-in method builtins.sum}\n",
      "                                                           2    0.000    0.000  {built-in method time.time}\n",
      "                                                     2002000    0.092    0.092  {method 'append' of 'list' objects}\n",
      "julia1_nopil.py:9(calculate_z_serial_purepython)  -> 34219980    1.981    1.981  {built-in method builtins.abs}\n",
      "                                                           2    0.000    0.000  {built-in method builtins.len}\n",
      "julia1_nopil.py:1(<module>)                       ->       1    0.327    6.569  julia1_nopil.py:23(calc_pure_python)\n",
      "{method 'disable' of '_lsprof.Profiler' objects}  -> \n",
      "{method 'append' of 'list' objects}               -> \n",
      "{built-in method builtins.abs}                    -> \n",
      "{built-in method builtins.exec}                   ->       1    0.019    6.588  julia1_nopil.py:1(<module>)\n",
      "{built-in method builtins.len}                    -> \n",
      "{built-in method builtins.print}                  -> \n",
      "{built-in method builtins.sum}                    -> \n",
      "{built-in method time.time}                       -> \n",
      "\n",
      "\n"
     ]
    },
    {
     "data": {
      "text/plain": [
       "<pstats.Stats at 0x1040c6680>"
      ]
     },
     "execution_count": 3,
     "metadata": {},
     "output_type": "execute_result"
    }
   ],
   "source": [
    "stats.print_callees()"
   ]
  },
  {
   "cell_type": "markdown",
   "metadata": {},
   "source": [
    "---"
   ]
  },
  {
   "cell_type": "code",
   "execution_count": 4,
   "metadata": {},
   "outputs": [
    {
     "name": "stdout",
     "output_type": "stream",
     "text": [
      "28.4 ns ± 0.0875 ns per loop (mean ± std. dev. of 7 runs, 10,000,000 loops each)\n"
     ]
    }
   ],
   "source": [
    "z = 0 + 0j\n",
    "%timeit abs(z)"
   ]
  },
  {
   "cell_type": "markdown",
   "metadata": {},
   "source": [
    "---"
   ]
  },
  {
   "cell_type": "code",
   "execution_count": 5,
   "metadata": {},
   "outputs": [],
   "source": [
    "from datetime import datetime\n",
    "from itertools import count, filterfalse, groupby, islice\n",
    "from random import normalvariate, randint\n",
    "\n",
    "from scipy.stats import normaltest\n",
    "\n",
    "\n",
    "def read_fake_data(filename):\n",
    "    for timestamp in count():\n",
    "        #  We insert an anomalous data point approximately once a week\n",
    "        if randint(0, 7 * 60 * 60 * 24 - 1) == 1:\n",
    "            value = normalvariate(0, 1)\n",
    "        else:\n",
    "            value = 100\n",
    "        yield datetime.fromtimestamp(timestamp), value\n",
    "\n",
    "data = read_fake_data(\"fake_filename\")"
   ]
  },
  {
   "cell_type": "code",
   "execution_count": 104,
   "metadata": {},
   "outputs": [
    {
     "data": {
      "text/plain": [
       "[(datetime.datetime(1970, 1, 1, 0, 4, 46), 100),\n",
       " (datetime.datetime(1970, 1, 1, 0, 4, 47), 100),\n",
       " (datetime.datetime(1970, 1, 1, 0, 4, 48), 100),\n",
       " (datetime.datetime(1970, 1, 1, 0, 4, 49), 100),\n",
       " (datetime.datetime(1970, 1, 1, 0, 4, 50), 100),\n",
       " (datetime.datetime(1970, 1, 1, 0, 4, 51), 100),\n",
       " (datetime.datetime(1970, 1, 1, 0, 4, 52), 100),\n",
       " (datetime.datetime(1970, 1, 1, 0, 4, 53), 100),\n",
       " (datetime.datetime(1970, 1, 1, 0, 4, 54), 100),\n",
       " (datetime.datetime(1970, 1, 1, 0, 4, 55), 100),\n",
       " (datetime.datetime(1970, 1, 1, 0, 4, 56), 100),\n",
       " (datetime.datetime(1970, 1, 1, 0, 4, 57), 100),\n",
       " (datetime.datetime(1970, 1, 1, 0, 4, 58), 100),\n",
       " (datetime.datetime(1970, 1, 1, 0, 4, 59), 100),\n",
       " (datetime.datetime(1970, 1, 1, 0, 5), 100),\n",
       " (datetime.datetime(1970, 1, 1, 0, 5, 1), 100),\n",
       " (datetime.datetime(1970, 1, 1, 0, 5, 2), 100),\n",
       " (datetime.datetime(1970, 1, 1, 0, 5, 3), 100),\n",
       " (datetime.datetime(1970, 1, 1, 0, 5, 4), 100),\n",
       " (datetime.datetime(1970, 1, 1, 0, 5, 5), 100)]"
      ]
     },
     "execution_count": 104,
     "metadata": {},
     "output_type": "execute_result"
    }
   ],
   "source": [
    "data_list = [next(data) for _ in range(20)]\n",
    "data_list"
   ]
  },
  {
   "cell_type": "markdown",
   "metadata": {},
   "source": [
    "---"
   ]
  },
  {
   "cell_type": "markdown",
   "metadata": {},
   "source": [
    "filter generator"
   ]
  },
  {
   "cell_type": "code",
   "execution_count": 51,
   "metadata": {},
   "outputs": [],
   "source": [
    "from itertools import count, filterfalse, groupby, islice\n",
    "ff_gen = filterfalse(lambda x: x % 2, range(100))"
   ]
  },
  {
   "cell_type": "markdown",
   "metadata": {},
   "source": [
    "modify filtered generator"
   ]
  },
  {
   "cell_type": "code",
   "execution_count": 52,
   "metadata": {},
   "outputs": [],
   "source": [
    "def times_10(gen):\n",
    "    yield from map(lambda x: x * 10, gen)"
   ]
  },
  {
   "cell_type": "markdown",
   "metadata": {},
   "source": [
    "get first X indexes of generator"
   ]
  },
  {
   "cell_type": "code",
   "execution_count": 65,
   "metadata": {},
   "outputs": [
    {
     "name": "stdout",
     "output_type": "stream",
     "text": [
      "0\n",
      "20\n",
      "40\n",
      "60\n",
      "80\n",
      "100\n",
      "120\n",
      "140\n",
      "160\n",
      "180\n"
     ]
    }
   ],
   "source": [
    "from itertools import count, filterfalse, groupby, islice\n",
    "evens = filterfalse(lambda x: x % 2, range(100))\n",
    "#for x in times_10(evens):\n",
    "for x in islice(times_10(evens), 10):\n",
    "    print(x)"
   ]
  },
  {
   "cell_type": "code",
   "execution_count": 68,
   "metadata": {},
   "outputs": [],
   "source": [
    "def filter_divisible_by(gen, by=40):\n",
    "    yield from (x for x in gen if x % 40 == 0)"
   ]
  },
  {
   "cell_type": "code",
   "execution_count": 69,
   "metadata": {},
   "outputs": [
    {
     "name": "stdout",
     "output_type": "stream",
     "text": [
      "0\n",
      "40\n",
      "80\n",
      "120\n",
      "160\n",
      "200\n",
      "240\n",
      "280\n",
      "320\n",
      "360\n"
     ]
    }
   ],
   "source": [
    "from itertools import count, filterfalse, groupby, islice\n",
    "evens = filterfalse(lambda x: x % 2, range(100))\n",
    "for x in islice(filter_divisible_by(times_10(evens)), 10):\n",
    "    print(x)"
   ]
  },
  {
   "cell_type": "code",
   "execution_count": null,
   "metadata": {},
   "outputs": [],
   "source": []
  }
 ],
 "metadata": {
  "kernelspec": {
   "display_name": "Python 3.10.4 ('high_perf')",
   "language": "python",
   "name": "python3"
  },
  "language_info": {
   "codemirror_mode": {
    "name": "ipython",
    "version": 3
   },
   "file_extension": ".py",
   "mimetype": "text/x-python",
   "name": "python",
   "nbconvert_exporter": "python",
   "pygments_lexer": "ipython3",
   "version": "3.10.4"
  },
  "orig_nbformat": 4,
  "vscode": {
   "interpreter": {
    "hash": "9319dfa85214d0bc2badbcf061a95d201cde207e015d223a804d8bef6ef9e747"
   }
  }
 },
 "nbformat": 4,
 "nbformat_minor": 2
}
