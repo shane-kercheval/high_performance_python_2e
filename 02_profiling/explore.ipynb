{
 "cells": [
  {
   "cell_type": "code",
   "execution_count": 1,
   "metadata": {},
   "outputs": [
    {
     "name": "stdout",
     "output_type": "stream",
     "text": [
      "Fri Sep 23 16:12:59 2022    profile.stats\n",
      "\n",
      "         36221995 function calls in 6.588 seconds\n",
      "\n",
      "   Random listing order was used\n",
      "\n",
      "   ncalls  tottime  percall  cumtime  percall filename:lineno(function)\n",
      "        1    0.327    0.327    6.569    6.569 julia1_nopil.py:23(calc_pure_python)\n",
      "        1    4.165    4.165    6.147    6.147 julia1_nopil.py:9(calculate_z_serial_purepython)\n",
      "        1    0.019    0.019    6.588    6.588 julia1_nopil.py:1(<module>)\n",
      "        1    0.000    0.000    0.000    0.000 {method 'disable' of '_lsprof.Profiler' objects}\n",
      "  2002000    0.092    0.000    0.092    0.000 {method 'append' of 'list' objects}\n",
      " 34219980    1.981    0.000    1.981    0.000 {built-in method builtins.abs}\n",
      "        1    0.000    0.000    6.588    6.588 {built-in method builtins.exec}\n",
      "        4    0.000    0.000    0.000    0.000 {built-in method builtins.len}\n",
      "        3    0.000    0.000    0.000    0.000 {built-in method builtins.print}\n",
      "        1    0.004    0.004    0.004    0.004 {built-in method builtins.sum}\n",
      "        2    0.000    0.000    0.000    0.000 {built-in method time.time}\n",
      "\n",
      "\n"
     ]
    },
    {
     "data": {
      "text/plain": [
       "<pstats.Stats at 0xffff86fce610>"
      ]
     },
     "execution_count": 1,
     "metadata": {},
     "output_type": "execute_result"
    }
   ],
   "source": [
    "import pstats\n",
    "stats = pstats.Stats('profile.stats')\n",
    "stats.print_stats()"
   ]
  },
  {
   "cell_type": "code",
   "execution_count": 2,
   "metadata": {},
   "outputs": [
    {
     "name": "stdout",
     "output_type": "stream",
     "text": [
      "   Random listing order was used\n",
      "\n",
      "Function                                          called...\n",
      "                                                      ncalls  tottime  cumtime\n",
      "julia1_nopil.py:23(calc_pure_python)              ->       1    4.165    6.147  julia1_nopil.py:9(calculate_z_serial_purepython)\n",
      "                                                           2    0.000    0.000  {built-in method builtins.len}\n",
      "                                                           3    0.000    0.000  {built-in method builtins.print}\n",
      "                                                           1    0.004    0.004  {built-in method builtins.sum}\n",
      "                                                           2    0.000    0.000  {built-in method time.time}\n",
      "                                                     2002000    0.092    0.092  {method 'append' of 'list' objects}\n",
      "julia1_nopil.py:9(calculate_z_serial_purepython)  -> 34219980    1.981    1.981  {built-in method builtins.abs}\n",
      "                                                           2    0.000    0.000  {built-in method builtins.len}\n",
      "julia1_nopil.py:1(<module>)                       ->       1    0.327    6.569  julia1_nopil.py:23(calc_pure_python)\n",
      "{method 'disable' of '_lsprof.Profiler' objects}  -> \n",
      "{method 'append' of 'list' objects}               -> \n",
      "{built-in method builtins.abs}                    -> \n",
      "{built-in method builtins.exec}                   ->       1    0.019    6.588  julia1_nopil.py:1(<module>)\n",
      "{built-in method builtins.len}                    -> \n",
      "{built-in method builtins.print}                  -> \n",
      "{built-in method builtins.sum}                    -> \n",
      "{built-in method time.time}                       -> \n",
      "\n",
      "\n"
     ]
    },
    {
     "data": {
      "text/plain": [
       "<pstats.Stats at 0xffff86fce610>"
      ]
     },
     "execution_count": 2,
     "metadata": {},
     "output_type": "execute_result"
    }
   ],
   "source": [
    "stats.print_callees()"
   ]
  },
  {
   "cell_type": "markdown",
   "metadata": {},
   "source": [
    "---"
   ]
  },
  {
   "cell_type": "code",
   "execution_count": 4,
   "metadata": {},
   "outputs": [
    {
     "name": "stdout",
     "output_type": "stream",
     "text": [
      "33.8 ns ± 0.415 ns per loop (mean ± std. dev. of 7 runs, 10,000,000 loops each)\n"
     ]
    }
   ],
   "source": [
    "z = 0 + 0j\n",
    "%timeit abs(z)"
   ]
  },
  {
   "cell_type": "code",
   "execution_count": null,
   "metadata": {},
   "outputs": [],
   "source": []
  },
  {
   "cell_type": "code",
   "execution_count": null,
   "metadata": {},
   "outputs": [],
   "source": []
  },
  {
   "cell_type": "code",
   "execution_count": null,
   "metadata": {},
   "outputs": [],
   "source": []
  }
 ],
 "metadata": {
  "kernelspec": {
   "display_name": "Python 3.9.14 64-bit",
   "language": "python",
   "name": "python3"
  },
  "language_info": {
   "codemirror_mode": {
    "name": "ipython",
    "version": 3
   },
   "file_extension": ".py",
   "mimetype": "text/x-python",
   "name": "python",
   "nbconvert_exporter": "python",
   "pygments_lexer": "ipython3",
   "version": "3.9.14"
  },
  "orig_nbformat": 4,
  "vscode": {
   "interpreter": {
    "hash": "949777d72b0d2535278d3dc13498b2535136f6dfe0678499012e853ee9abcab1"
   }
  }
 },
 "nbformat": 4,
 "nbformat_minor": 2
}
